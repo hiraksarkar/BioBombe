{
  "nbformat": 4,
  "nbformat_minor": 0,
  "metadata": {
    "colab": {
      "name": "Process_Data_As_Biobombe.ipynb",
      "provenance": [],
      "authorship_tag": "ABX9TyMrTqPm0+2pzL2Rl2uTIpd5",
      "include_colab_link": true
    },
    "kernelspec": {
      "name": "python3",
      "display_name": "Python 3"
    }
  },
  "cells": [
    {
      "cell_type": "markdown",
      "metadata": {
        "id": "view-in-github",
        "colab_type": "text"
      },
      "source": [
        "<a href=\"https://colab.research.google.com/github/hiraksarkar/BioBombe/blob/master/Process_Data_As_Biobombe.ipynb\" target=\"_parent\"><img src=\"https://colab.research.google.com/assets/colab-badge.svg\" alt=\"Open In Colab\"/></a>"
      ]
    },
    {
      "cell_type": "code",
      "metadata": {
        "id": "hLqtdG9AnSEZ",
        "colab_type": "code",
        "colab": {}
      },
      "source": [
        "import os\n",
        "from urllib.request import urlretrieve"
      ],
      "execution_count": 0,
      "outputs": []
    },
    {
      "cell_type": "code",
      "metadata": {
        "id": "wlVNJbujTnXP",
        "colab_type": "code",
        "colab": {
          "base_uri": "https://localhost:8080/",
          "height": 292
        },
        "outputId": "2fa8314c-7246-42cc-a90e-727e9e6d9087"
      },
      "source": [
        "!wget http://api.gdc.cancer.gov/data/9a4679c3-855d-4055-8be9-3577ce10f66e -O EBPlusPlusAdjustPANCAN_IlluminaHiSeq_RNASeqV2-v2.geneExp.tsv"
      ],
      "execution_count": 2,
      "outputs": [
        {
          "output_type": "stream",
          "text": [
            "--2020-05-22 21:35:12--  http://api.gdc.cancer.gov/data/9a4679c3-855d-4055-8be9-3577ce10f66e\n",
            "Resolving api.gdc.cancer.gov (api.gdc.cancer.gov)... 192.170.230.246, 2605:9a00:10:4008::102\n",
            "Connecting to api.gdc.cancer.gov (api.gdc.cancer.gov)|192.170.230.246|:80... connected.\n",
            "HTTP request sent, awaiting response... 301 Moved Permanently\n",
            "Location: https://api.gdc.cancer.gov/data/9a4679c3-855d-4055-8be9-3577ce10f66e [following]\n",
            "--2020-05-22 21:35:12--  https://api.gdc.cancer.gov/data/9a4679c3-855d-4055-8be9-3577ce10f66e\n",
            "Connecting to api.gdc.cancer.gov (api.gdc.cancer.gov)|192.170.230.246|:443... connected.\n",
            "HTTP request sent, awaiting response... 200 OK\n",
            "Length: 1879492443 (1.8G) [application/octet-stream]\n",
            "Saving to: ‘EBPlusPlusAdjustPANCAN_IlluminaHiSeq_RNASeqV2-v2.geneExp.tsv’\n",
            "\n",
            "EBPlusPlusAdjustPAN 100%[===================>]   1.75G  15.1MB/s    in 1m 59s  \n",
            "\n",
            "2020-05-22 21:37:11 (15.1 MB/s) - ‘EBPlusPlusAdjustPANCAN_IlluminaHiSeq_RNASeqV2-v2.geneExp.tsv’ saved [1879492443/1879492443]\n",
            "\n"
          ],
          "name": "stdout"
        }
      ]
    },
    {
      "cell_type": "code",
      "metadata": {
        "id": "JCttJM1PT7dw",
        "colab_type": "code",
        "colab": {}
      },
      "source": [
        ""
      ],
      "execution_count": 0,
      "outputs": []
    }
  ]
}