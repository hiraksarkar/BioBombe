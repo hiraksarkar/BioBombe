{
  "nbformat": 4,
  "nbformat_minor": 0,
  "metadata": {
    "colab": {
      "name": "Process_Data_As_Biobombe.ipynb",
      "provenance": [],
      "mount_file_id": "1TyvkXpfo3omVCLHmOKmEA4-0CV-p75Pt",
      "authorship_tag": "ABX9TyM8ZctooLNwBwXpesNyb+Eo",
      "include_colab_link": true
    },
    "kernelspec": {
      "name": "python3",
      "display_name": "Python 3"
    }
  },
  "cells": [
    {
      "cell_type": "markdown",
      "metadata": {
        "id": "view-in-github",
        "colab_type": "text"
      },
      "source": [
        "<a href=\"https://colab.research.google.com/github/hiraksarkar/BioBombe/blob/master/Process_Data_As_Biobombe.ipynb\" target=\"_parent\"><img src=\"https://colab.research.google.com/assets/colab-badge.svg\" alt=\"Open In Colab\"/></a>"
      ]
    },
    {
      "cell_type": "markdown",
      "metadata": {
        "id": "T7IxXiuy3ScU",
        "colab_type": "text"
      },
      "source": [
        "## Pan Cancer Data Processing\n",
        "\n",
        "[Source Notebook](https://github.com/greenelab/BioBombe/blob/76ec84f72f8c40f55871f90d5d7f12bc8c647b94/0.expression-download/2A.process-pancanatlas-data.ipynb) "
      ]
    },
    {
      "cell_type": "code",
      "metadata": {
        "id": "hLqtdG9AnSEZ",
        "colab_type": "code",
        "colab": {}
      },
      "source": [
        "import os\n",
        "from urllib.request import urlretrieve"
      ],
      "execution_count": 0,
      "outputs": []
    },
    {
      "cell_type": "code",
      "metadata": {
        "id": "wlVNJbujTnXP",
        "colab_type": "code",
        "colab": {
          "base_uri": "https://localhost:8080/",
          "height": 292
        },
        "outputId": "2fa8314c-7246-42cc-a90e-727e9e6d9087"
      },
      "source": [
        "!wget http://api.gdc.cancer.gov/data/9a4679c3-855d-4055-8be9-3577ce10f66e -O EBPlusPlusAdjustPANCAN_IlluminaHiSeq_RNASeqV2-v2.geneExp.tsv"
      ],
      "execution_count": 2,
      "outputs": [
        {
          "output_type": "stream",
          "text": [
            "--2020-05-22 21:35:12--  http://api.gdc.cancer.gov/data/9a4679c3-855d-4055-8be9-3577ce10f66e\n",
            "Resolving api.gdc.cancer.gov (api.gdc.cancer.gov)... 192.170.230.246, 2605:9a00:10:4008::102\n",
            "Connecting to api.gdc.cancer.gov (api.gdc.cancer.gov)|192.170.230.246|:80... connected.\n",
            "HTTP request sent, awaiting response... 301 Moved Permanently\n",
            "Location: https://api.gdc.cancer.gov/data/9a4679c3-855d-4055-8be9-3577ce10f66e [following]\n",
            "--2020-05-22 21:35:12--  https://api.gdc.cancer.gov/data/9a4679c3-855d-4055-8be9-3577ce10f66e\n",
            "Connecting to api.gdc.cancer.gov (api.gdc.cancer.gov)|192.170.230.246|:443... connected.\n",
            "HTTP request sent, awaiting response... 200 OK\n",
            "Length: 1879492443 (1.8G) [application/octet-stream]\n",
            "Saving to: ‘EBPlusPlusAdjustPANCAN_IlluminaHiSeq_RNASeqV2-v2.geneExp.tsv’\n",
            "\n",
            "EBPlusPlusAdjustPAN 100%[===================>]   1.75G  15.1MB/s    in 1m 59s  \n",
            "\n",
            "2020-05-22 21:37:11 (15.1 MB/s) - ‘EBPlusPlusAdjustPANCAN_IlluminaHiSeq_RNASeqV2-v2.geneExp.tsv’ saved [1879492443/1879492443]\n",
            "\n"
          ],
          "name": "stdout"
        }
      ]
    },
    {
      "cell_type": "code",
      "metadata": {
        "id": "JCttJM1PT7dw",
        "colab_type": "code",
        "colab": {}
      },
      "source": [
        "import os\n",
        "import random\n",
        "import pandas as pd"
      ],
      "execution_count": 0,
      "outputs": []
    },
    {
      "cell_type": "code",
      "metadata": {
        "id": "QQBw8pbiYDS_",
        "colab_type": "code",
        "colab": {}
      },
      "source": [
        "# Commit from https://github.com/cognoma/cancer-data/\n",
        "sample_commit = 'da832c5edc1ca4d3f665b038d15b19fced724f4c'\n",
        "\n",
        "url = 'https://raw.githubusercontent.com/cognoma/cancer-data/{}/mapping/tcga_cancertype_codes.csv'.format(sample_commit)\n",
        "cancer_types_df = pd.read_csv(url,\n",
        "                              dtype='str',\n",
        "                              keep_default_na=False)\n",
        "\n",
        "cancertype_codes_dict = dict(zip(cancer_types_df['TSS Code'],\n",
        "                                 cancer_types_df.acronym))"
      ],
      "execution_count": 0,
      "outputs": []
    },
    {
      "cell_type": "code",
      "metadata": {
        "id": "H_aN3ZGLYRL8",
        "colab_type": "code",
        "colab": {
          "base_uri": "https://localhost:8080/",
          "height": 145
        },
        "outputId": "eda5aea2-3d35-4c01-af17-c13bc7474eb8"
      },
      "source": [
        "cancer_types_df.head(2)"
      ],
      "execution_count": 9,
      "outputs": [
        {
          "output_type": "execute_result",
          "data": {
            "text/html": [
              "<div>\n",
              "<style scoped>\n",
              "    .dataframe tbody tr th:only-of-type {\n",
              "        vertical-align: middle;\n",
              "    }\n",
              "\n",
              "    .dataframe tbody tr th {\n",
              "        vertical-align: top;\n",
              "    }\n",
              "\n",
              "    .dataframe thead th {\n",
              "        text-align: right;\n",
              "    }\n",
              "</style>\n",
              "<table border=\"1\" class=\"dataframe\">\n",
              "  <thead>\n",
              "    <tr style=\"text-align: right;\">\n",
              "      <th></th>\n",
              "      <th>TSS Code</th>\n",
              "      <th>Source Site</th>\n",
              "      <th>Study Name</th>\n",
              "      <th>BCR</th>\n",
              "      <th>acronym</th>\n",
              "    </tr>\n",
              "  </thead>\n",
              "  <tbody>\n",
              "    <tr>\n",
              "      <th>0</th>\n",
              "      <td>01</td>\n",
              "      <td>International Genomics Consortium</td>\n",
              "      <td>ovarian serous cystadenocarcinoma</td>\n",
              "      <td>IGC</td>\n",
              "      <td>OV</td>\n",
              "    </tr>\n",
              "    <tr>\n",
              "      <th>1</th>\n",
              "      <td>02</td>\n",
              "      <td>MD Anderson Cancer Center</td>\n",
              "      <td>glioblastoma multiforme</td>\n",
              "      <td>IGC</td>\n",
              "      <td>GBM</td>\n",
              "    </tr>\n",
              "  </tbody>\n",
              "</table>\n",
              "</div>"
            ],
            "text/plain": [
              "  TSS Code                        Source Site  ...  BCR acronym\n",
              "0       01  International Genomics Consortium  ...  IGC      OV\n",
              "1       02          MD Anderson Cancer Center  ...  IGC     GBM\n",
              "\n",
              "[2 rows x 5 columns]"
            ]
          },
          "metadata": {
            "tags": []
          },
          "execution_count": 9
        }
      ]
    },
    {
      "cell_type": "code",
      "metadata": {
        "id": "v4wjE94SYTxw",
        "colab_type": "code",
        "colab": {}
      },
      "source": [
        "url = 'https://raw.githubusercontent.com/cognoma/cancer-data/{}/mapping/tcga_sampletype_codes.csv'.format(sample_commit)\n",
        "sample_types_df = pd.read_csv(url, dtype='str')"
      ],
      "execution_count": 0,
      "outputs": []
    },
    {
      "cell_type": "code",
      "metadata": {
        "id": "iAkclClfYwc5",
        "colab_type": "code",
        "colab": {}
      },
      "source": [
        "sampletype_codes_dict = dict(zip(sample_types_df.Code,\n",
        "                                 sample_types_df.Definition))"
      ],
      "execution_count": 0,
      "outputs": []
    },
    {
      "cell_type": "code",
      "metadata": {
        "id": "TNRf0VYyY-tp",
        "colab_type": "code",
        "colab": {
          "base_uri": "https://localhost:8080/",
          "height": 111
        },
        "outputId": "93e30343-6664-4535-ab3b-0e8622c42035"
      },
      "source": [
        "sample_types_df.head(2)"
      ],
      "execution_count": 14,
      "outputs": [
        {
          "output_type": "execute_result",
          "data": {
            "text/html": [
              "<div>\n",
              "<style scoped>\n",
              "    .dataframe tbody tr th:only-of-type {\n",
              "        vertical-align: middle;\n",
              "    }\n",
              "\n",
              "    .dataframe tbody tr th {\n",
              "        vertical-align: top;\n",
              "    }\n",
              "\n",
              "    .dataframe thead th {\n",
              "        text-align: right;\n",
              "    }\n",
              "</style>\n",
              "<table border=\"1\" class=\"dataframe\">\n",
              "  <thead>\n",
              "    <tr style=\"text-align: right;\">\n",
              "      <th></th>\n",
              "      <th>Code</th>\n",
              "      <th>Definition</th>\n",
              "      <th>Short Letter Code</th>\n",
              "    </tr>\n",
              "  </thead>\n",
              "  <tbody>\n",
              "    <tr>\n",
              "      <th>0</th>\n",
              "      <td>01</td>\n",
              "      <td>Primary Solid Tumor</td>\n",
              "      <td>TP</td>\n",
              "    </tr>\n",
              "    <tr>\n",
              "      <th>1</th>\n",
              "      <td>02</td>\n",
              "      <td>Recurrent Solid Tumor</td>\n",
              "      <td>TR</td>\n",
              "    </tr>\n",
              "  </tbody>\n",
              "</table>\n",
              "</div>"
            ],
            "text/plain": [
              "  Code             Definition Short Letter Code\n",
              "0   01    Primary Solid Tumor                TP\n",
              "1   02  Recurrent Solid Tumor                TR"
            ]
          },
          "metadata": {
            "tags": []
          },
          "execution_count": 14
        }
      ]
    },
    {
      "cell_type": "code",
      "metadata": {
        "id": "g8RNEaQAZBLy",
        "colab_type": "code",
        "colab": {}
      },
      "source": [
        "genes_commit = 'ad9631bb4e77e2cdc5413b0d77cb8f7e93fc5bee'\n",
        "url = 'https://raw.githubusercontent.com/cognoma/genes/{}/data/genes.tsv'.format(genes_commit)\n",
        "gene_df = pd.read_table(url)\n",
        "\n",
        "# Only consider protein-coding genes\n",
        "gene_df = (\n",
        "    gene_df.query(\"gene_type == 'protein-coding'\")\n",
        ")"
      ],
      "execution_count": 0,
      "outputs": []
    },
    {
      "cell_type": "code",
      "metadata": {
        "id": "szMb3Rn1Zm1m",
        "colab_type": "code",
        "colab": {
          "base_uri": "https://localhost:8080/",
          "height": 250
        },
        "outputId": "15821612-3365-4121-ac20-ac70b17cfc6b"
      },
      "source": [
        "gene_df.head(2)"
      ],
      "execution_count": 17,
      "outputs": [
        {
          "output_type": "execute_result",
          "data": {
            "text/html": [
              "<div>\n",
              "<style scoped>\n",
              "    .dataframe tbody tr th:only-of-type {\n",
              "        vertical-align: middle;\n",
              "    }\n",
              "\n",
              "    .dataframe tbody tr th {\n",
              "        vertical-align: top;\n",
              "    }\n",
              "\n",
              "    .dataframe thead th {\n",
              "        text-align: right;\n",
              "    }\n",
              "</style>\n",
              "<table border=\"1\" class=\"dataframe\">\n",
              "  <thead>\n",
              "    <tr style=\"text-align: right;\">\n",
              "      <th></th>\n",
              "      <th>entrez_gene_id</th>\n",
              "      <th>symbol</th>\n",
              "      <th>description</th>\n",
              "      <th>chromosome</th>\n",
              "      <th>gene_type</th>\n",
              "      <th>synonyms</th>\n",
              "      <th>aliases</th>\n",
              "    </tr>\n",
              "  </thead>\n",
              "  <tbody>\n",
              "    <tr>\n",
              "      <th>0</th>\n",
              "      <td>1</td>\n",
              "      <td>A1BG</td>\n",
              "      <td>alpha-1-B glycoprotein</td>\n",
              "      <td>19</td>\n",
              "      <td>protein-coding</td>\n",
              "      <td>A1B|ABG|GAB|HYST2477</td>\n",
              "      <td>alpha-1B-glycoprotein|HEL-S-163pA|epididymis s...</td>\n",
              "    </tr>\n",
              "    <tr>\n",
              "      <th>1</th>\n",
              "      <td>2</td>\n",
              "      <td>A2M</td>\n",
              "      <td>alpha-2-macroglobulin</td>\n",
              "      <td>12</td>\n",
              "      <td>protein-coding</td>\n",
              "      <td>A2MD|CPAMD5|FWP007|S863-7</td>\n",
              "      <td>alpha-2-macroglobulin|C3 and PZP-like alpha-2-...</td>\n",
              "    </tr>\n",
              "  </tbody>\n",
              "</table>\n",
              "</div>"
            ],
            "text/plain": [
              "   entrez_gene_id  ...                                            aliases\n",
              "0               1  ...  alpha-1B-glycoprotein|HEL-S-163pA|epididymis s...\n",
              "1               2  ...  alpha-2-macroglobulin|C3 and PZP-like alpha-2-...\n",
              "\n",
              "[2 rows x 7 columns]"
            ]
          },
          "metadata": {
            "tags": []
          },
          "execution_count": 17
        }
      ]
    },
    {
      "cell_type": "code",
      "metadata": {
        "id": "cLsJqDHuZpN0",
        "colab_type": "code",
        "colab": {}
      },
      "source": [
        "url = 'https://raw.githubusercontent.com/cognoma/genes/{}/data/updater.tsv'.format(genes_commit)\n",
        "updater_df = pd.read_table(url)\n",
        "\n",
        "old_to_new_entrez = dict(zip(updater_df.old_entrez_gene_id,\n",
        "                             updater_df.new_entrez_gene_id))"
      ],
      "execution_count": 0,
      "outputs": []
    },
    {
      "cell_type": "code",
      "metadata": {
        "id": "cwHjkncTcwKy",
        "colab_type": "code",
        "colab": {}
      },
      "source": [
        "file = os.path.join('EBPlusPlusAdjustPANCAN_IlluminaHiSeq_RNASeqV2-v2.geneExp.tsv')\n",
        "tcga_expr_df = pd.read_table(file, index_col=0)"
      ],
      "execution_count": 0,
      "outputs": []
    },
    {
      "cell_type": "code",
      "metadata": {
        "id": "AH495PY1dE44",
        "colab_type": "code",
        "colab": {
          "base_uri": "https://localhost:8080/",
          "height": 34
        },
        "outputId": "032265b3-a1fb-474d-88ac-fd61b0933d5a"
      },
      "source": [
        "tcga_expr_df.shape"
      ],
      "execution_count": 23,
      "outputs": [
        {
          "output_type": "execute_result",
          "data": {
            "text/plain": [
              "(20531, 11069)"
            ]
          },
          "metadata": {
            "tags": []
          },
          "execution_count": 23
        }
      ]
    },
    {
      "cell_type": "code",
      "metadata": {
        "id": "oakdivlPdg4f",
        "colab_type": "code",
        "colab": {
          "base_uri": "https://localhost:8080/",
          "height": 142
        },
        "outputId": "7380cf26-e43e-4055-9a35-dfb250cbacbf"
      },
      "source": [
        "tcga_expr_df[tcga_expr_df.columns[:2]].head(2)"
      ],
      "execution_count": 25,
      "outputs": [
        {
          "output_type": "execute_result",
          "data": {
            "text/html": [
              "<div>\n",
              "<style scoped>\n",
              "    .dataframe tbody tr th:only-of-type {\n",
              "        vertical-align: middle;\n",
              "    }\n",
              "\n",
              "    .dataframe tbody tr th {\n",
              "        vertical-align: top;\n",
              "    }\n",
              "\n",
              "    .dataframe thead th {\n",
              "        text-align: right;\n",
              "    }\n",
              "</style>\n",
              "<table border=\"1\" class=\"dataframe\">\n",
              "  <thead>\n",
              "    <tr style=\"text-align: right;\">\n",
              "      <th></th>\n",
              "      <th>TCGA-OR-A5J1-01A-11R-A29S-07</th>\n",
              "      <th>TCGA-OR-A5J2-01A-11R-A29S-07</th>\n",
              "    </tr>\n",
              "    <tr>\n",
              "      <th>gene_id</th>\n",
              "      <th></th>\n",
              "      <th></th>\n",
              "    </tr>\n",
              "  </thead>\n",
              "  <tbody>\n",
              "    <tr>\n",
              "      <th>?|100130426</th>\n",
              "      <td>0.0000</td>\n",
              "      <td>0.0000</td>\n",
              "    </tr>\n",
              "    <tr>\n",
              "      <th>?|100133144</th>\n",
              "      <td>3.2661</td>\n",
              "      <td>2.6815</td>\n",
              "    </tr>\n",
              "  </tbody>\n",
              "</table>\n",
              "</div>"
            ],
            "text/plain": [
              "             TCGA-OR-A5J1-01A-11R-A29S-07  TCGA-OR-A5J2-01A-11R-A29S-07\n",
              "gene_id                                                                \n",
              "?|100130426                        0.0000                        0.0000\n",
              "?|100133144                        3.2661                        2.6815"
            ]
          },
          "metadata": {
            "tags": []
          },
          "execution_count": 25
        }
      ]
    },
    {
      "cell_type": "code",
      "metadata": {
        "id": "s__sZW8hdzI5",
        "colab_type": "code",
        "colab": {}
      },
      "source": [
        "tcga_expr_df.index = tcga_expr_df.index.map(lambda x: x.split('|')[1])"
      ],
      "execution_count": 0,
      "outputs": []
    },
    {
      "cell_type": "code",
      "metadata": {
        "id": "hPHVMGUMd8YO",
        "colab_type": "code",
        "colab": {}
      },
      "source": [
        "tcga_expr_df = (tcga_expr_df\n",
        "    .dropna(axis='rows')\n",
        "    .rename(index=old_to_new_entrez)\n",
        "    .groupby(level=0).mean()\n",
        "    .transpose()\n",
        "    .sort_index(axis='rows')\n",
        "    .sort_index(axis='columns')\n",
        ")\n",
        "\n",
        "tcga_expr_df.index.rename('sample_id', inplace=True)"
      ],
      "execution_count": 0,
      "outputs": []
    },
    {
      "cell_type": "code",
      "metadata": {
        "id": "--X0jffGeE2h",
        "colab_type": "code",
        "colab": {}
      },
      "source": [
        "# Update sample IDs to remove multiple samples measured on the same tumor\n",
        "# and to map with the clinical information\n",
        "tcga_expr_df.index = tcga_expr_df.index.str.slice(start=0, stop=15)\n",
        "tcga_expr_df = tcga_expr_df.loc[~tcga_expr_df.index.duplicated(), :]"
      ],
      "execution_count": 0,
      "outputs": []
    },
    {
      "cell_type": "code",
      "metadata": {
        "id": "xSGsd64zeVu-",
        "colab_type": "code",
        "colab": {}
      },
      "source": [
        "# Filter for valid Entrez gene identifiers\n",
        "tcga_expr_df = tcga_expr_df.loc[:, tcga_expr_df.columns.isin(gene_df.entrez_gene_id.astype(str))]"
      ],
      "execution_count": 0,
      "outputs": []
    },
    {
      "cell_type": "code",
      "metadata": {
        "id": "REa6UF86eeIh",
        "colab_type": "code",
        "colab": {
          "base_uri": "https://localhost:8080/",
          "height": 386
        },
        "outputId": "8f069645-7a64-46a8-e66a-84b4d42cd71b"
      },
      "source": [
        "print(tcga_expr_df.shape)\n",
        "tcga_expr_df.head(5)"
      ],
      "execution_count": 30,
      "outputs": [
        {
          "output_type": "stream",
          "text": [
            "(11060, 16148)\n"
          ],
          "name": "stdout"
        },
        {
          "output_type": "execute_result",
          "data": {
            "text/html": [
              "<div>\n",
              "<style scoped>\n",
              "    .dataframe tbody tr th:only-of-type {\n",
              "        vertical-align: middle;\n",
              "    }\n",
              "\n",
              "    .dataframe tbody tr th {\n",
              "        vertical-align: top;\n",
              "    }\n",
              "\n",
              "    .dataframe thead th {\n",
              "        text-align: right;\n",
              "    }\n",
              "</style>\n",
              "<table border=\"1\" class=\"dataframe\">\n",
              "  <thead>\n",
              "    <tr style=\"text-align: right;\">\n",
              "      <th>gene_id</th>\n",
              "      <th>1</th>\n",
              "      <th>10</th>\n",
              "      <th>100</th>\n",
              "      <th>1000</th>\n",
              "      <th>10000</th>\n",
              "      <th>10001</th>\n",
              "      <th>10002</th>\n",
              "      <th>10003</th>\n",
              "      <th>100037417</th>\n",
              "      <th>10004</th>\n",
              "      <th>100049587</th>\n",
              "      <th>10005</th>\n",
              "      <th>10006</th>\n",
              "      <th>10007</th>\n",
              "      <th>10008</th>\n",
              "      <th>10009</th>\n",
              "      <th>1001</th>\n",
              "      <th>10010</th>\n",
              "      <th>100101267</th>\n",
              "      <th>100101467</th>\n",
              "      <th>10011</th>\n",
              "      <th>100113407</th>\n",
              "      <th>100125288</th>\n",
              "      <th>100128553</th>\n",
              "      <th>100128569</th>\n",
              "      <th>100128731</th>\n",
              "      <th>100128927</th>\n",
              "      <th>100129396</th>\n",
              "      <th>100129583</th>\n",
              "      <th>100129792</th>\n",
              "      <th>100129842</th>\n",
              "      <th>10013</th>\n",
              "      <th>100130086</th>\n",
              "      <th>100130311</th>\n",
              "      <th>100130449</th>\n",
              "      <th>100130733</th>\n",
              "      <th>100130742</th>\n",
              "      <th>100130771</th>\n",
              "      <th>100130933</th>\n",
              "      <th>100130958</th>\n",
              "      <th>...</th>\n",
              "      <th>995</th>\n",
              "      <th>9950</th>\n",
              "      <th>9953</th>\n",
              "      <th>9955</th>\n",
              "      <th>9956</th>\n",
              "      <th>9957</th>\n",
              "      <th>9958</th>\n",
              "      <th>996</th>\n",
              "      <th>9960</th>\n",
              "      <th>9961</th>\n",
              "      <th>9962</th>\n",
              "      <th>9963</th>\n",
              "      <th>9965</th>\n",
              "      <th>9966</th>\n",
              "      <th>9967</th>\n",
              "      <th>9968</th>\n",
              "      <th>9969</th>\n",
              "      <th>997</th>\n",
              "      <th>9970</th>\n",
              "      <th>9972</th>\n",
              "      <th>9973</th>\n",
              "      <th>9975</th>\n",
              "      <th>9976</th>\n",
              "      <th>9978</th>\n",
              "      <th>998</th>\n",
              "      <th>9980</th>\n",
              "      <th>9982</th>\n",
              "      <th>9984</th>\n",
              "      <th>9985</th>\n",
              "      <th>9986</th>\n",
              "      <th>9987</th>\n",
              "      <th>9988</th>\n",
              "      <th>9989</th>\n",
              "      <th>999</th>\n",
              "      <th>9990</th>\n",
              "      <th>9991</th>\n",
              "      <th>9992</th>\n",
              "      <th>9993</th>\n",
              "      <th>9994</th>\n",
              "      <th>9997</th>\n",
              "    </tr>\n",
              "    <tr>\n",
              "      <th>sample_id</th>\n",
              "      <th></th>\n",
              "      <th></th>\n",
              "      <th></th>\n",
              "      <th></th>\n",
              "      <th></th>\n",
              "      <th></th>\n",
              "      <th></th>\n",
              "      <th></th>\n",
              "      <th></th>\n",
              "      <th></th>\n",
              "      <th></th>\n",
              "      <th></th>\n",
              "      <th></th>\n",
              "      <th></th>\n",
              "      <th></th>\n",
              "      <th></th>\n",
              "      <th></th>\n",
              "      <th></th>\n",
              "      <th></th>\n",
              "      <th></th>\n",
              "      <th></th>\n",
              "      <th></th>\n",
              "      <th></th>\n",
              "      <th></th>\n",
              "      <th></th>\n",
              "      <th></th>\n",
              "      <th></th>\n",
              "      <th></th>\n",
              "      <th></th>\n",
              "      <th></th>\n",
              "      <th></th>\n",
              "      <th></th>\n",
              "      <th></th>\n",
              "      <th></th>\n",
              "      <th></th>\n",
              "      <th></th>\n",
              "      <th></th>\n",
              "      <th></th>\n",
              "      <th></th>\n",
              "      <th></th>\n",
              "      <th></th>\n",
              "      <th></th>\n",
              "      <th></th>\n",
              "      <th></th>\n",
              "      <th></th>\n",
              "      <th></th>\n",
              "      <th></th>\n",
              "      <th></th>\n",
              "      <th></th>\n",
              "      <th></th>\n",
              "      <th></th>\n",
              "      <th></th>\n",
              "      <th></th>\n",
              "      <th></th>\n",
              "      <th></th>\n",
              "      <th></th>\n",
              "      <th></th>\n",
              "      <th></th>\n",
              "      <th></th>\n",
              "      <th></th>\n",
              "      <th></th>\n",
              "      <th></th>\n",
              "      <th></th>\n",
              "      <th></th>\n",
              "      <th></th>\n",
              "      <th></th>\n",
              "      <th></th>\n",
              "      <th></th>\n",
              "      <th></th>\n",
              "      <th></th>\n",
              "      <th></th>\n",
              "      <th></th>\n",
              "      <th></th>\n",
              "      <th></th>\n",
              "      <th></th>\n",
              "      <th></th>\n",
              "      <th></th>\n",
              "      <th></th>\n",
              "      <th></th>\n",
              "      <th></th>\n",
              "      <th></th>\n",
              "    </tr>\n",
              "  </thead>\n",
              "  <tbody>\n",
              "    <tr>\n",
              "      <th>TCGA-02-0047-01</th>\n",
              "      <td>125.0070</td>\n",
              "      <td>10.4490</td>\n",
              "      <td>136.452</td>\n",
              "      <td>2302.47</td>\n",
              "      <td>1297.520</td>\n",
              "      <td>271.674</td>\n",
              "      <td>1.2293</td>\n",
              "      <td>8.6051</td>\n",
              "      <td>187.492</td>\n",
              "      <td>15.3662</td>\n",
              "      <td>118.6270</td>\n",
              "      <td>333.876</td>\n",
              "      <td>2339.210</td>\n",
              "      <td>1056.58</td>\n",
              "      <td>399.521</td>\n",
              "      <td>805.188</td>\n",
              "      <td>232.3370</td>\n",
              "      <td>660.746</td>\n",
              "      <td>1236.060</td>\n",
              "      <td>494.348</td>\n",
              "      <td>685.331</td>\n",
              "      <td>939.795</td>\n",
              "      <td>26.4237</td>\n",
              "      <td>4.3025</td>\n",
              "      <td>9.8344</td>\n",
              "      <td>2038.15</td>\n",
              "      <td>232.951</td>\n",
              "      <td>3.6879</td>\n",
              "      <td>104.4410</td>\n",
              "      <td>48.8153</td>\n",
              "      <td>195.4580</td>\n",
              "      <td>1405.700</td>\n",
              "      <td>45.4839</td>\n",
              "      <td>19.2999</td>\n",
              "      <td>7.3758</td>\n",
              "      <td>9.8344</td>\n",
              "      <td>1.8439</td>\n",
              "      <td>32.6255</td>\n",
              "      <td>4.3025</td>\n",
              "      <td>14.7515</td>\n",
              "      <td>...</td>\n",
              "      <td>51.6304</td>\n",
              "      <td>820.554</td>\n",
              "      <td>27.6591</td>\n",
              "      <td>62.6940</td>\n",
              "      <td>271.6740</td>\n",
              "      <td>336.827</td>\n",
              "      <td>735.732</td>\n",
              "      <td>1250.81</td>\n",
              "      <td>402.594</td>\n",
              "      <td>2510.220</td>\n",
              "      <td>3786.230</td>\n",
              "      <td>1.8439</td>\n",
              "      <td>0.000</td>\n",
              "      <td>2.4586</td>\n",
              "      <td>2363.93</td>\n",
              "      <td>1103.910</td>\n",
              "      <td>2431.540</td>\n",
              "      <td>797.197</td>\n",
              "      <td>9.6623</td>\n",
              "      <td>1013.550</td>\n",
              "      <td>330.065</td>\n",
              "      <td>777.529</td>\n",
              "      <td>112.480</td>\n",
              "      <td>926.71</td>\n",
              "      <td>5494.94</td>\n",
              "      <td>536.587</td>\n",
              "      <td>0.0</td>\n",
              "      <td>314.085</td>\n",
              "      <td>1062.720</td>\n",
              "      <td>162.881</td>\n",
              "      <td>4033.31</td>\n",
              "      <td>791.278</td>\n",
              "      <td>1810.14</td>\n",
              "      <td>264.9130</td>\n",
              "      <td>684.225</td>\n",
              "      <td>1097.760</td>\n",
              "      <td>11.6783</td>\n",
              "      <td>4815.14</td>\n",
              "      <td>288.269</td>\n",
              "      <td>299.948</td>\n",
              "    </tr>\n",
              "    <tr>\n",
              "      <th>TCGA-02-0055-01</th>\n",
              "      <td>391.8040</td>\n",
              "      <td>1.1212</td>\n",
              "      <td>222.004</td>\n",
              "      <td>1819.76</td>\n",
              "      <td>903.154</td>\n",
              "      <td>321.233</td>\n",
              "      <td>0.0000</td>\n",
              "      <td>38.1219</td>\n",
              "      <td>426.853</td>\n",
              "      <td>44.8493</td>\n",
              "      <td>287.0360</td>\n",
              "      <td>596.922</td>\n",
              "      <td>1321.020</td>\n",
              "      <td>1211.49</td>\n",
              "      <td>200.140</td>\n",
              "      <td>498.949</td>\n",
              "      <td>375.6130</td>\n",
              "      <td>1216.540</td>\n",
              "      <td>970.428</td>\n",
              "      <td>255.983</td>\n",
              "      <td>1492.360</td>\n",
              "      <td>359.355</td>\n",
              "      <td>37.5221</td>\n",
              "      <td>4.4849</td>\n",
              "      <td>12.8942</td>\n",
              "      <td>3723.60</td>\n",
              "      <td>167.624</td>\n",
              "      <td>2.2425</td>\n",
              "      <td>50.8984</td>\n",
              "      <td>322.6240</td>\n",
              "      <td>63.3497</td>\n",
              "      <td>1425.650</td>\n",
              "      <td>17.3791</td>\n",
              "      <td>45.9089</td>\n",
              "      <td>1.6819</td>\n",
              "      <td>20.1822</td>\n",
              "      <td>1.1212</td>\n",
              "      <td>3.8514</td>\n",
              "      <td>0.0000</td>\n",
              "      <td>17.9397</td>\n",
              "      <td>...</td>\n",
              "      <td>71.7589</td>\n",
              "      <td>1071.900</td>\n",
              "      <td>82.4107</td>\n",
              "      <td>485.4940</td>\n",
              "      <td>115.4870</td>\n",
              "      <td>164.261</td>\n",
              "      <td>1113.950</td>\n",
              "      <td>1385.28</td>\n",
              "      <td>447.933</td>\n",
              "      <td>3918.150</td>\n",
              "      <td>944.639</td>\n",
              "      <td>1.6819</td>\n",
              "      <td>0.000</td>\n",
              "      <td>6.1668</td>\n",
              "      <td>1998.60</td>\n",
              "      <td>665.452</td>\n",
              "      <td>1233.360</td>\n",
              "      <td>859.986</td>\n",
              "      <td>16.5158</td>\n",
              "      <td>1304.560</td>\n",
              "      <td>584.163</td>\n",
              "      <td>773.651</td>\n",
              "      <td>807.288</td>\n",
              "      <td>2076.36</td>\n",
              "      <td>8510.72</td>\n",
              "      <td>577.435</td>\n",
              "      <td>0.0</td>\n",
              "      <td>392.432</td>\n",
              "      <td>132.866</td>\n",
              "      <td>366.643</td>\n",
              "      <td>4431.67</td>\n",
              "      <td>921.424</td>\n",
              "      <td>2038.96</td>\n",
              "      <td>2.2425</td>\n",
              "      <td>466.534</td>\n",
              "      <td>1399.860</td>\n",
              "      <td>16.8185</td>\n",
              "      <td>2228.45</td>\n",
              "      <td>309.460</td>\n",
              "      <td>787.106</td>\n",
              "    </tr>\n",
              "    <tr>\n",
              "      <th>TCGA-02-2483-01</th>\n",
              "      <td>271.8520</td>\n",
              "      <td>4.6438</td>\n",
              "      <td>255.831</td>\n",
              "      <td>2888.87</td>\n",
              "      <td>1319.680</td>\n",
              "      <td>458.048</td>\n",
              "      <td>4.6438</td>\n",
              "      <td>5.9103</td>\n",
              "      <td>260.002</td>\n",
              "      <td>29.1293</td>\n",
              "      <td>104.6970</td>\n",
              "      <td>406.012</td>\n",
              "      <td>1997.350</td>\n",
              "      <td>1423.11</td>\n",
              "      <td>453.404</td>\n",
              "      <td>1167.700</td>\n",
              "      <td>382.4800</td>\n",
              "      <td>509.129</td>\n",
              "      <td>1165.170</td>\n",
              "      <td>566.514</td>\n",
              "      <td>752.295</td>\n",
              "      <td>783.536</td>\n",
              "      <td>41.4480</td>\n",
              "      <td>0.4222</td>\n",
              "      <td>5.9103</td>\n",
              "      <td>3048.71</td>\n",
              "      <td>200.528</td>\n",
              "      <td>0.8443</td>\n",
              "      <td>70.5520</td>\n",
              "      <td>45.9145</td>\n",
              "      <td>352.0840</td>\n",
              "      <td>904.697</td>\n",
              "      <td>19.4195</td>\n",
              "      <td>9.3298</td>\n",
              "      <td>12.2427</td>\n",
              "      <td>29.5937</td>\n",
              "      <td>2.1108</td>\n",
              "      <td>4.5805</td>\n",
              "      <td>0.4222</td>\n",
              "      <td>8.8654</td>\n",
              "      <td>...</td>\n",
              "      <td>178.1530</td>\n",
              "      <td>919.894</td>\n",
              "      <td>0.4222</td>\n",
              "      <td>8.8654</td>\n",
              "      <td>64.1689</td>\n",
              "      <td>312.401</td>\n",
              "      <td>784.380</td>\n",
              "      <td>1505.44</td>\n",
              "      <td>937.119</td>\n",
              "      <td>804.644</td>\n",
              "      <td>1584.380</td>\n",
              "      <td>0.8443</td>\n",
              "      <td>2.533</td>\n",
              "      <td>1.2665</td>\n",
              "      <td>2732.24</td>\n",
              "      <td>939.314</td>\n",
              "      <td>1358.100</td>\n",
              "      <td>1759.580</td>\n",
              "      <td>19.3098</td>\n",
              "      <td>1244.960</td>\n",
              "      <td>453.404</td>\n",
              "      <td>997.150</td>\n",
              "      <td>179.419</td>\n",
              "      <td>1926.86</td>\n",
              "      <td>6246.75</td>\n",
              "      <td>448.338</td>\n",
              "      <td>0.0</td>\n",
              "      <td>530.237</td>\n",
              "      <td>521.794</td>\n",
              "      <td>339.842</td>\n",
              "      <td>7839.58</td>\n",
              "      <td>846.708</td>\n",
              "      <td>2229.87</td>\n",
              "      <td>18.9974</td>\n",
              "      <td>565.184</td>\n",
              "      <td>1339.950</td>\n",
              "      <td>8.8654</td>\n",
              "      <td>2737.73</td>\n",
              "      <td>306.491</td>\n",
              "      <td>457.203</td>\n",
              "    </tr>\n",
              "    <tr>\n",
              "      <th>TCGA-02-2485-01</th>\n",
              "      <td>83.9429</td>\n",
              "      <td>20.0000</td>\n",
              "      <td>129.048</td>\n",
              "      <td>6965.71</td>\n",
              "      <td>10136.200</td>\n",
              "      <td>418.571</td>\n",
              "      <td>5.2381</td>\n",
              "      <td>37.6190</td>\n",
              "      <td>539.333</td>\n",
              "      <td>19.5238</td>\n",
              "      <td>35.7143</td>\n",
              "      <td>346.419</td>\n",
              "      <td>984.424</td>\n",
              "      <td>1209.05</td>\n",
              "      <td>102.857</td>\n",
              "      <td>1241.430</td>\n",
              "      <td>11.9048</td>\n",
              "      <td>731.905</td>\n",
              "      <td>1477.620</td>\n",
              "      <td>699.457</td>\n",
              "      <td>769.048</td>\n",
              "      <td>1216.670</td>\n",
              "      <td>98.6905</td>\n",
              "      <td>2.3810</td>\n",
              "      <td>5.7143</td>\n",
              "      <td>1779.96</td>\n",
              "      <td>137.143</td>\n",
              "      <td>10.4762</td>\n",
              "      <td>60.6952</td>\n",
              "      <td>54.4524</td>\n",
              "      <td>333.3330</td>\n",
              "      <td>1604.290</td>\n",
              "      <td>8.0952</td>\n",
              "      <td>33.1048</td>\n",
              "      <td>4.2857</td>\n",
              "      <td>32.8571</td>\n",
              "      <td>5.7143</td>\n",
              "      <td>10.9619</td>\n",
              "      <td>2.8571</td>\n",
              "      <td>12.3810</td>\n",
              "      <td>...</td>\n",
              "      <td>147.6190</td>\n",
              "      <td>989.048</td>\n",
              "      <td>20.4762</td>\n",
              "      <td>36.6667</td>\n",
              "      <td>103.8090</td>\n",
              "      <td>213.333</td>\n",
              "      <td>754.286</td>\n",
              "      <td>1269.05</td>\n",
              "      <td>448.962</td>\n",
              "      <td>685.238</td>\n",
              "      <td>1548.570</td>\n",
              "      <td>1.9048</td>\n",
              "      <td>105.238</td>\n",
              "      <td>0.0000</td>\n",
              "      <td>2146.19</td>\n",
              "      <td>1177.620</td>\n",
              "      <td>1608.100</td>\n",
              "      <td>2370.000</td>\n",
              "      <td>9.8952</td>\n",
              "      <td>1150.480</td>\n",
              "      <td>378.571</td>\n",
              "      <td>639.524</td>\n",
              "      <td>176.667</td>\n",
              "      <td>1029.40</td>\n",
              "      <td>5491.90</td>\n",
              "      <td>626.667</td>\n",
              "      <td>0.0</td>\n",
              "      <td>484.762</td>\n",
              "      <td>207.619</td>\n",
              "      <td>276.190</td>\n",
              "      <td>6560.00</td>\n",
              "      <td>1592.740</td>\n",
              "      <td>1840.95</td>\n",
              "      <td>112.3810</td>\n",
              "      <td>484.881</td>\n",
              "      <td>726.667</td>\n",
              "      <td>11.4286</td>\n",
              "      <td>2979.05</td>\n",
              "      <td>439.524</td>\n",
              "      <td>426.667</td>\n",
              "    </tr>\n",
              "    <tr>\n",
              "      <th>TCGA-02-2486-01</th>\n",
              "      <td>108.2560</td>\n",
              "      <td>3.6585</td>\n",
              "      <td>205.488</td>\n",
              "      <td>2250.61</td>\n",
              "      <td>873.171</td>\n",
              "      <td>441.463</td>\n",
              "      <td>1.8293</td>\n",
              "      <td>83.5366</td>\n",
              "      <td>265.061</td>\n",
              "      <td>29.8780</td>\n",
              "      <td>1004.8800</td>\n",
              "      <td>594.317</td>\n",
              "      <td>1907.560</td>\n",
              "      <td>2364.63</td>\n",
              "      <td>270.122</td>\n",
              "      <td>843.902</td>\n",
              "      <td>19.5122</td>\n",
              "      <td>1017.680</td>\n",
              "      <td>1510.370</td>\n",
              "      <td>424.610</td>\n",
              "      <td>1402.440</td>\n",
              "      <td>353.049</td>\n",
              "      <td>37.8598</td>\n",
              "      <td>0.0000</td>\n",
              "      <td>6.0976</td>\n",
              "      <td>4162.11</td>\n",
              "      <td>334.146</td>\n",
              "      <td>0.6098</td>\n",
              "      <td>290.0490</td>\n",
              "      <td>341.2870</td>\n",
              "      <td>146.3410</td>\n",
              "      <td>1199.390</td>\n",
              "      <td>17.6829</td>\n",
              "      <td>13.5854</td>\n",
              "      <td>1.8293</td>\n",
              "      <td>8.5488</td>\n",
              "      <td>1.8293</td>\n",
              "      <td>181.6890</td>\n",
              "      <td>10.3659</td>\n",
              "      <td>0.6098</td>\n",
              "      <td>...</td>\n",
              "      <td>3.6585</td>\n",
              "      <td>1074.390</td>\n",
              "      <td>3.0488</td>\n",
              "      <td>7.3171</td>\n",
              "      <td>84.7561</td>\n",
              "      <td>320.122</td>\n",
              "      <td>929.268</td>\n",
              "      <td>1313.41</td>\n",
              "      <td>399.890</td>\n",
              "      <td>2569.510</td>\n",
              "      <td>1121.340</td>\n",
              "      <td>2.4390</td>\n",
              "      <td>0.000</td>\n",
              "      <td>0.6098</td>\n",
              "      <td>2317.68</td>\n",
              "      <td>667.073</td>\n",
              "      <td>854.878</td>\n",
              "      <td>1181.710</td>\n",
              "      <td>14.2195</td>\n",
              "      <td>931.098</td>\n",
              "      <td>638.415</td>\n",
              "      <td>373.171</td>\n",
              "      <td>665.854</td>\n",
              "      <td>1606.18</td>\n",
              "      <td>7618.90</td>\n",
              "      <td>431.707</td>\n",
              "      <td>0.0</td>\n",
              "      <td>451.829</td>\n",
              "      <td>212.195</td>\n",
              "      <td>270.122</td>\n",
              "      <td>4330.49</td>\n",
              "      <td>816.335</td>\n",
              "      <td>1134.76</td>\n",
              "      <td>9.1463</td>\n",
              "      <td>397.677</td>\n",
              "      <td>1098.170</td>\n",
              "      <td>12.8049</td>\n",
              "      <td>1340.24</td>\n",
              "      <td>251.220</td>\n",
              "      <td>541.463</td>\n",
              "    </tr>\n",
              "  </tbody>\n",
              "</table>\n",
              "<p>5 rows × 16148 columns</p>\n",
              "</div>"
            ],
            "text/plain": [
              "gene_id                 1       10      100  ...     9993     9994     9997\n",
              "sample_id                                    ...                           \n",
              "TCGA-02-0047-01  125.0070  10.4490  136.452  ...  4815.14  288.269  299.948\n",
              "TCGA-02-0055-01  391.8040   1.1212  222.004  ...  2228.45  309.460  787.106\n",
              "TCGA-02-2483-01  271.8520   4.6438  255.831  ...  2737.73  306.491  457.203\n",
              "TCGA-02-2485-01   83.9429  20.0000  129.048  ...  2979.05  439.524  426.667\n",
              "TCGA-02-2486-01  108.2560   3.6585  205.488  ...  1340.24  251.220  541.463\n",
              "\n",
              "[5 rows x 16148 columns]"
            ]
          },
          "metadata": {
            "tags": []
          },
          "execution_count": 30
        }
      ]
    },
    {
      "cell_type": "code",
      "metadata": {
        "id": "2eUfjrl0nLmM",
        "colab_type": "code",
        "colab": {}
      },
      "source": [
        "# Extract sample type in the order of the gene expression matrix\n",
        "tcga_id = pd.DataFrame(tcga_expr_df.index)\n",
        "\n",
        "# Extract the last two digits of the barcode and recode sample-type\n",
        "tcga_id = tcga_id.assign(sample_type = tcga_id.sample_id.str[-2:])\n",
        "tcga_id.sample_type = tcga_id.sample_type.replace(sampletype_codes_dict)\n",
        "\n",
        "# Extract the first two ID numbers after `TCGA-` and recode cancer-type\n",
        "tcga_id = tcga_id.assign(cancer_type = tcga_id.sample_id.str[5:7])\n",
        "tcga_id.cancer_type = tcga_id.cancer_type.replace(cancertype_codes_dict)\n",
        "\n",
        "# Append cancer-type with sample-type to generate stratification variable\n",
        "tcga_id = tcga_id.assign(stratify_samples = tcga_id.cancer_type.str.cat(tcga_id.sample_type))\n",
        "\n",
        "# Get stratification counts - function cannot work with singleton strats\n",
        "stratify_counts = tcga_id.stratify_samples.value_counts().to_dict()\n",
        "\n",
        "# Recode stratification variables if they are singletons\n",
        "tcga_id = tcga_id.assign(stratify_samples_count = tcga_id.stratify_samples)\n",
        "tcga_id.stratify_samples_count = tcga_id.stratify_samples_count.replace(stratify_counts)\n",
        "tcga_id.loc[tcga_id.stratify_samples_count == 1, \"stratify_samples\"] = \"other\""
      ],
      "execution_count": 0,
      "outputs": []
    },
    {
      "cell_type": "code",
      "metadata": {
        "id": "wb955-kboROL",
        "colab_type": "code",
        "colab": {}
      },
      "source": [
        "!mkdir -p /content/drive/My\\ Drive/BioBombe/pancandata"
      ],
      "execution_count": 0,
      "outputs": []
    },
    {
      "cell_type": "code",
      "metadata": {
        "id": "6Ad3mpojogZP",
        "colab_type": "code",
        "colab": {
          "base_uri": "https://localhost:8080/",
          "height": 34
        },
        "outputId": "23743ffb-5fa9-4f72-f731-586734fc4c7e"
      },
      "source": [
        "!ls /content/drive/My\\ Drive/BioBombe/"
      ],
      "execution_count": 45,
      "outputs": [
        {
          "output_type": "stream",
          "text": [
            "pancandata\n"
          ],
          "name": "stdout"
        }
      ]
    },
    {
      "cell_type": "code",
      "metadata": {
        "id": "YqdCgaURok_2",
        "colab_type": "code",
        "colab": {}
      },
      "source": [
        "!cp EBPlusPlusAdjustPANCAN_IlluminaHiSeq_RNASeqV2-v2.geneExp.tsv /content/drive/My\\ Drive/BioBombe/pancandata/"
      ],
      "execution_count": 0,
      "outputs": []
    },
    {
      "cell_type": "code",
      "metadata": {
        "id": "Mj0yxVu_psxF",
        "colab_type": "code",
        "colab": {
          "base_uri": "https://localhost:8080/",
          "height": 34
        },
        "outputId": "9fb7ace8-b2d5-4eb8-c6ff-e282dab5105c"
      },
      "source": [
        "!ls /content/drive/My\\ Drive/BioBombe/pancandata/"
      ],
      "execution_count": 48,
      "outputs": [
        {
          "output_type": "stream",
          "text": [
            "EBPlusPlusAdjustPANCAN_IlluminaHiSeq_RNASeqV2-v2.geneExp.tsv\n"
          ],
          "name": "stdout"
        }
      ]
    },
    {
      "cell_type": "code",
      "metadata": {
        "id": "4UtHJBce2U85",
        "colab_type": "code",
        "colab": {}
      },
      "source": [
        "data_folder = '/content/drive/My Drive/BioBombe/pancandata/'"
      ],
      "execution_count": 0,
      "outputs": []
    },
    {
      "cell_type": "code",
      "metadata": {
        "id": "hVLf80nTp5qA",
        "colab_type": "code",
        "colab": {}
      },
      "source": [
        "file = os.path.join(data_folder, 'tcga_sample_identifiers.tsv')\n",
        "\n",
        "(\n",
        "    tcga_id.drop(['stratify_samples', 'stratify_samples_count'], axis='columns')\n",
        "    .to_csv(file, sep='\\t', index=False)\n",
        ")\n"
      ],
      "execution_count": 0,
      "outputs": []
    },
    {
      "cell_type": "code",
      "metadata": {
        "id": "WkpSaJZa2dGw",
        "colab_type": "code",
        "colab": {
          "base_uri": "https://localhost:8080/",
          "height": 51
        },
        "outputId": "3f465501-eeda-4a20-c53b-d66105111f77"
      },
      "source": [
        "!ls /content/drive/My\\ Drive/BioBombe/pancandata/"
      ],
      "execution_count": 51,
      "outputs": [
        {
          "output_type": "stream",
          "text": [
            "EBPlusPlusAdjustPANCAN_IlluminaHiSeq_RNASeqV2-v2.geneExp.tsv\n",
            "tcga_sample_identifiers.tsv\n"
          ],
          "name": "stdout"
        }
      ]
    },
    {
      "cell_type": "code",
      "metadata": {
        "id": "gKBDZmYd2gZk",
        "colab_type": "code",
        "colab": {
          "base_uri": "https://localhost:8080/",
          "height": 165
        },
        "outputId": "d9f2dfe0-f23c-4075-8e3e-ede6a4759b44"
      },
      "source": [
        "tcga_id.head(2)"
      ],
      "execution_count": 52,
      "outputs": [
        {
          "output_type": "execute_result",
          "data": {
            "text/html": [
              "<div>\n",
              "<style scoped>\n",
              "    .dataframe tbody tr th:only-of-type {\n",
              "        vertical-align: middle;\n",
              "    }\n",
              "\n",
              "    .dataframe tbody tr th {\n",
              "        vertical-align: top;\n",
              "    }\n",
              "\n",
              "    .dataframe thead th {\n",
              "        text-align: right;\n",
              "    }\n",
              "</style>\n",
              "<table border=\"1\" class=\"dataframe\">\n",
              "  <thead>\n",
              "    <tr style=\"text-align: right;\">\n",
              "      <th></th>\n",
              "      <th>sample_id</th>\n",
              "      <th>sample_type</th>\n",
              "      <th>cancer_type</th>\n",
              "      <th>stratify_samples</th>\n",
              "      <th>stratify_samples_count</th>\n",
              "    </tr>\n",
              "  </thead>\n",
              "  <tbody>\n",
              "    <tr>\n",
              "      <th>0</th>\n",
              "      <td>TCGA-02-0047-01</td>\n",
              "      <td>Primary Solid Tumor</td>\n",
              "      <td>GBM</td>\n",
              "      <td>GBMPrimary Solid Tumor</td>\n",
              "      <td>154</td>\n",
              "    </tr>\n",
              "    <tr>\n",
              "      <th>1</th>\n",
              "      <td>TCGA-02-0055-01</td>\n",
              "      <td>Primary Solid Tumor</td>\n",
              "      <td>GBM</td>\n",
              "      <td>GBMPrimary Solid Tumor</td>\n",
              "      <td>154</td>\n",
              "    </tr>\n",
              "  </tbody>\n",
              "</table>\n",
              "</div>"
            ],
            "text/plain": [
              "         sample_id  ... stratify_samples_count\n",
              "0  TCGA-02-0047-01  ...                    154\n",
              "1  TCGA-02-0055-01  ...                    154\n",
              "\n",
              "[2 rows x 5 columns]"
            ]
          },
          "metadata": {
            "tags": []
          },
          "execution_count": 52
        }
      ]
    },
    {
      "cell_type": "code",
      "metadata": {
        "id": "mot29pDr2qGF",
        "colab_type": "code",
        "colab": {}
      },
      "source": [
        "cancertype_count_df = (\n",
        "    pd.DataFrame(tcga_id.cancer_type.value_counts())\n",
        "    .reset_index()\n",
        "    .rename({'index': 'cancertype', 'cancer_type': 'n ='}, axis='columns')\n",
        ")\n",
        "\n",
        "file = os.path.join(data_folder, 'tcga_sample_counts.tsv')\n",
        "cancertype_count_df.to_csv(file, sep='\\t', index=False)"
      ],
      "execution_count": 0,
      "outputs": []
    },
    {
      "cell_type": "code",
      "metadata": {
        "id": "VjpcDBrb20bu",
        "colab_type": "code",
        "colab": {}
      },
      "source": [
        "from sklearn.model_selection import train_test_split"
      ],
      "execution_count": 0,
      "outputs": []
    },
    {
      "cell_type": "code",
      "metadata": {
        "id": "npPytSWU2_3d",
        "colab_type": "code",
        "colab": {}
      },
      "source": [
        "train_df, test_df = train_test_split(tcga_expr_df,\n",
        "                                     test_size=0.1,\n",
        "                                     random_state=123,\n",
        "                                     stratify=tcga_id.stratify_samples_count)"
      ],
      "execution_count": 0,
      "outputs": []
    },
    {
      "cell_type": "code",
      "metadata": {
        "id": "b17rk5cj3INM",
        "colab_type": "code",
        "colab": {}
      },
      "source": [
        "train_file = os.path.join(data_folder, 'train_tcga_expression_matrix_processed.tsv.gz')\n",
        "train_df.to_csv(train_file, sep='\\t', compression='gzip', float_format='%.3g')"
      ],
      "execution_count": 0,
      "outputs": []
    },
    {
      "cell_type": "code",
      "metadata": {
        "id": "-Fa1P0vN3Ncl",
        "colab_type": "code",
        "colab": {}
      },
      "source": [
        "test_file = os.path.join(data_folder, 'test_tcga_expression_matrix_processed.tsv.gz')\n",
        "test_df.to_csv(test_file, sep='\\t', compression='gzip', float_format='%.3g')"
      ],
      "execution_count": 0,
      "outputs": []
    },
    {
      "cell_type": "code",
      "metadata": {
        "id": "bnn8NCcq3nRc",
        "colab_type": "code",
        "colab": {
          "base_uri": "https://localhost:8080/",
          "height": 204
        },
        "outputId": "7c3fc97c-6a6c-4498-8848-fc5a2890c6e7"
      },
      "source": [
        "cancertype_count_df.head()"
      ],
      "execution_count": 61,
      "outputs": [
        {
          "output_type": "execute_result",
          "data": {
            "text/html": [
              "<div>\n",
              "<style scoped>\n",
              "    .dataframe tbody tr th:only-of-type {\n",
              "        vertical-align: middle;\n",
              "    }\n",
              "\n",
              "    .dataframe tbody tr th {\n",
              "        vertical-align: top;\n",
              "    }\n",
              "\n",
              "    .dataframe thead th {\n",
              "        text-align: right;\n",
              "    }\n",
              "</style>\n",
              "<table border=\"1\" class=\"dataframe\">\n",
              "  <thead>\n",
              "    <tr style=\"text-align: right;\">\n",
              "      <th></th>\n",
              "      <th>cancertype</th>\n",
              "      <th>n =</th>\n",
              "    </tr>\n",
              "  </thead>\n",
              "  <tbody>\n",
              "    <tr>\n",
              "      <th>0</th>\n",
              "      <td>BRCA</td>\n",
              "      <td>1218</td>\n",
              "    </tr>\n",
              "    <tr>\n",
              "      <th>1</th>\n",
              "      <td>KIRC</td>\n",
              "      <td>606</td>\n",
              "    </tr>\n",
              "    <tr>\n",
              "      <th>2</th>\n",
              "      <td>LUAD</td>\n",
              "      <td>576</td>\n",
              "    </tr>\n",
              "    <tr>\n",
              "      <th>3</th>\n",
              "      <td>THCA</td>\n",
              "      <td>572</td>\n",
              "    </tr>\n",
              "    <tr>\n",
              "      <th>4</th>\n",
              "      <td>UCEC</td>\n",
              "      <td>567</td>\n",
              "    </tr>\n",
              "  </tbody>\n",
              "</table>\n",
              "</div>"
            ],
            "text/plain": [
              "  cancertype   n =\n",
              "0       BRCA  1218\n",
              "1       KIRC   606\n",
              "2       LUAD   576\n",
              "3       THCA   572\n",
              "4       UCEC   567"
            ]
          },
          "metadata": {
            "tags": []
          },
          "execution_count": 61
        }
      ]
    },
    {
      "cell_type": "markdown",
      "metadata": {
        "id": "eE7wkA-GPGIx",
        "colab_type": "text"
      },
      "source": [
        "-------------------------------------"
      ]
    },
    {
      "cell_type": "markdown",
      "metadata": {
        "id": "YvpVk6x3PLzu",
        "colab_type": "text"
      },
      "source": [
        "## Variational Auto Encoder"
      ]
    },
    {
      "cell_type": "code",
      "metadata": {
        "id": "hnt--Vo4PId_",
        "colab_type": "code",
        "colab": {}
      },
      "source": [
        ""
      ],
      "execution_count": 0,
      "outputs": []
    }
  ]
}